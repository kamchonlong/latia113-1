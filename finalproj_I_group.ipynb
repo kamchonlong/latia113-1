{
  "nbformat": 4,
  "nbformat_minor": 0,
  "metadata": {
    "colab": {
      "provenance": [],
      "gpuType": "T4"
    },
    "kernelspec": {
      "name": "python3",
      "display_name": "Python 3"
    },
    "language_info": {
      "name": "python"
    },
    "accelerator": "GPU"
  },
  "cells": [
    {
      "cell_type": "markdown",
      "source": [
        "**先用已派發任務找出數量，再找出取消派發的數並減去，再用完成任務的總數計出完成率。可以在代碼中自然科學位置更改為其他文本名稱來計算其他文本的完成率**"
      ],
      "metadata": {
        "id": "lk5c44H8Ob2l"
      }
    },
    {
      "cell_type": "code",
      "execution_count": null,
      "metadata": {
        "id": "MD8xvHU7zuMP",
        "colab": {
          "base_uri": "https://localhost:8080/"
        },
        "outputId": "f0001d7a-4bb7-43ed-8e6b-f091fb255d04"
      },
      "outputs": [
        {
          "output_type": "stream",
          "name": "stderr",
          "text": [
            "<ipython-input-36-b9f7896a5376>:7: SettingWithCopyWarning: \n",
            "A value is trying to be set on a copy of a slice from a DataFrame.\n",
            "Try using .loc[row_indexer,col_indexer] = value instead\n",
            "\n",
            "See the caveats in the documentation: https://pandas.pydata.org/pandas-docs/stable/user_guide/indexing.html#returning-a-view-versus-a-copy\n",
            "  culture_df['mission_difficulty'] =culture_df['mission_difficulty'].map(difficulty_mapping)\n"
          ]
        }
      ],
      "source": [
        "import pandas as pd\n",
        "import numpy as np\n",
        "\n",
        "df = pd.read_csv('A_stat_data_112.csv')\n",
        "culture_df = df[df['mission_field'] == '自然科學']\n",
        "difficulty_mapping = {'易': 1, '中': 2, '難': 3}\n",
        "culture_df['mission_difficulty'] =culture_df['mission_difficulty'].map(difficulty_mapping)\n",
        "culture_df = culture_df.sort_values(by='mission_status',ascending=True).reset_index(drop=True)\n",
        "hard_culture_df = culture_df[culture_df['mission_difficulty'] == 1]\n",
        "misson_status_culture_df =hard_culture_df[hard_culture_df['mission_status'] == '已派發任務']\n",
        "from google.colab import auth\n",
        "auth.authenticate_user()\n",
        "import gspread\n",
        "from google.auth import default\n",
        "creds,_=default()\n",
        "gc = gspread.authorize(creds)\n",
        "\n",
        "gsheets=gc.open_by_url(\"https://docs.google.com/spreadsheets/d/1ffx1S7H_F796-nG6qCUAtKoj8NMU4nVrumfVrbROxFs/edit?gid=0#gid=0\")\n",
        "\n",
        "from gspread_dataframe import set_with_dataframe\n",
        "#select new sheets\n",
        "worksheet = gsheets.get_worksheet(0)\n",
        "#taking your DataFrame into Googlesheets\n",
        "set_with_dataframe(worksheet,misson_status_culture_df)"
      ]
    },
    {
      "cell_type": "code",
      "source": [
        "import pandas as pd\n",
        "import numpy as np\n",
        "\n",
        "df = pd.read_csv('A_stat_data_112.csv')\n",
        "culture_df = df[df['mission_field'] == '自然科學']\n",
        "difficulty_mapping = {'易': 1, '中': 2, '難': 3}\n",
        "culture_df['mission_difficulty'] =culture_df['mission_difficulty'].map(difficulty_mapping)\n",
        "culture_df = culture_df.sort_values(by='mission_status',ascending=True).reset_index(drop=True)\n",
        "hard_culture_df = culture_df[culture_df['mission_difficulty'] == 2]\n",
        "misson_status_culture_df =hard_culture_df[hard_culture_df['mission_status'] == '已派發任務']\n",
        "from google.colab import auth\n",
        "auth.authenticate_user()\n",
        "import gspread\n",
        "from google.auth import default\n",
        "creds,_=default()\n",
        "gc = gspread.authorize(creds)\n",
        "\n",
        "gsheets=gc.open_by_url(\"https://docs.google.com/spreadsheets/d/1ffx1S7H_F796-nG6qCUAtKoj8NMU4nVrumfVrbROxFs/edit?gid=0#gid=0\")\n",
        "\n",
        "from gspread_dataframe import set_with_dataframe\n",
        "#select new sheets\n",
        "worksheet = gsheets.get_worksheet(0)\n",
        "#taking your DataFrame into Googlesheets\n",
        "set_with_dataframe(worksheet,misson_status_culture_df)"
      ],
      "metadata": {
        "id": "r976RyUeM7SF"
      },
      "execution_count": null,
      "outputs": []
    },
    {
      "cell_type": "code",
      "source": [
        "import pandas as pd\n",
        "import numpy as np\n",
        "\n",
        "df = pd.read_csv('A_stat_data_112.csv')\n",
        "culture_df = df[df['mission_field'] == '自然科學']\n",
        "difficulty_mapping = {'易': 1, '中': 2, '難': 3}\n",
        "culture_df['mission_difficulty'] =culture_df['mission_difficulty'].map(difficulty_mapping)\n",
        "culture_df = culture_df.sort_values(by='mission_status',ascending=True).reset_index(drop=True)\n",
        "hard_culture_df = culture_df[culture_df['mission_difficulty'] == 3]\n",
        "misson_status_culture_df =hard_culture_df[hard_culture_df['mission_status'] == '已派發任務']\n",
        "from google.colab import auth\n",
        "auth.authenticate_user()\n",
        "import gspread\n",
        "from google.auth import default\n",
        "creds,_=default()\n",
        "gc = gspread.authorize(creds)\n",
        "\n",
        "gsheets=gc.open_by_url(\"https://docs.google.com/spreadsheets/d/1ffx1S7H_F796-nG6qCUAtKoj8NMU4nVrumfVrbROxFs/edit?gid=0#gid=0\")\n",
        "\n",
        "from gspread_dataframe import set_with_dataframe\n",
        "#select new sheets\n",
        "worksheet = gsheets.get_worksheet(0)\n",
        "#taking your DataFrame into Googlesheets\n",
        "set_with_dataframe(worksheet,misson_status_culture_df)"
      ],
      "metadata": {
        "id": "aaBWiTpOM_Ll"
      },
      "execution_count": null,
      "outputs": []
    },
    {
      "cell_type": "code",
      "source": [
        "import pandas as pd\n",
        "import numpy as np\n",
        "\n",
        "df = pd.read_csv('A_stat_data_112.csv')\n",
        "culture_df = df[df['mission_field'] == '自然科學']\n",
        "difficulty_mapping = {'易': 1, '中': 2, '難': 3}\n",
        "culture_df['mission_difficulty'] =culture_df['mission_difficulty'].map(difficulty_mapping)\n",
        "culture_df = culture_df.sort_values(by='mission_status',ascending=True).reset_index(drop=True)\n",
        "hard_culture_df = culture_df[culture_df['mission_difficulty'] == 1]\n",
        "misson_status_culture_df =hard_culture_df[hard_culture_df['mission_status'] == '完成任務']\n",
        "from google.colab import auth\n",
        "auth.authenticate_user()\n",
        "import gspread\n",
        "from google.auth import default\n",
        "creds,_=default()\n",
        "gc = gspread.authorize(creds)\n",
        "\n",
        "gsheets=gc.open_by_url(\"https://docs.google.com/spreadsheets/d/12oFwI3ynX9cjOSsExOLgw2rzMXVw6PsHvsEs7eBT8k0/edit?gid=0#gid=0\")\n",
        "\n",
        "from gspread_dataframe import set_with_dataframe\n",
        "#select new sheets\n",
        "worksheet = gsheets.get_worksheet(0)\n",
        "#taking your DataFrame into Googlesheets\n",
        "set_with_dataframe(worksheet,misson_status_culture_df)"
      ],
      "metadata": {
        "colab": {
          "base_uri": "https://localhost:8080/"
        },
        "id": "zKL7kkZFB4M2",
        "outputId": "aa4e6834-4053-4699-8345-46fce111083a"
      },
      "execution_count": null,
      "outputs": [
        {
          "output_type": "stream",
          "name": "stderr",
          "text": [
            "<ipython-input-42-89b3d8fa4c08>:7: SettingWithCopyWarning: \n",
            "A value is trying to be set on a copy of a slice from a DataFrame.\n",
            "Try using .loc[row_indexer,col_indexer] = value instead\n",
            "\n",
            "See the caveats in the documentation: https://pandas.pydata.org/pandas-docs/stable/user_guide/indexing.html#returning-a-view-versus-a-copy\n",
            "  culture_df['mission_difficulty'] =culture_df['mission_difficulty'].map(difficulty_mapping)\n"
          ]
        }
      ]
    },
    {
      "cell_type": "code",
      "source": [
        "import pandas as pd\n",
        "import numpy as np\n",
        "\n",
        "df = pd.read_csv('A_stat_data_112.csv')\n",
        "culture_df = df[df['mission_field'] == '自然科學']\n",
        "difficulty_mapping = {'易': 1, '中': 2, '難': 3}\n",
        "culture_df['mission_difficulty'] =culture_df['mission_difficulty'].map(difficulty_mapping)\n",
        "culture_df = culture_df.sort_values(by='mission_status',ascending=True).reset_index(drop=True)\n",
        "hard_culture_df = culture_df[culture_df['mission_difficulty'] == 2]\n",
        "misson_status_culture_df =hard_culture_df[hard_culture_df['mission_status'] == '完成任務']\n",
        "from google.colab import auth\n",
        "auth.authenticate_user()\n",
        "import gspread\n",
        "from google.auth import default\n",
        "creds,_=default()\n",
        "gc = gspread.authorize(creds)\n",
        "\n",
        "gsheets=gc.open_by_url(\"https://docs.google.com/spreadsheets/d/1ffx1S7H_F796-nG6qCUAtKoj8NMU4nVrumfVrbROxFs/edit?gid=0#gid=0\")\n",
        "\n",
        "from gspread_dataframe import set_with_dataframe\n",
        "#select new sheets\n",
        "worksheet = gsheets.get_worksheet(0)\n",
        "#taking your DataFrame into Googlesheets\n",
        "set_with_dataframe(worksheet,misson_status_culture_df)"
      ],
      "metadata": {
        "id": "djlOfw8HNCS1"
      },
      "execution_count": null,
      "outputs": []
    },
    {
      "cell_type": "code",
      "source": [
        "import pandas as pd\n",
        "import numpy as np\n",
        "\n",
        "df = pd.read_csv('A_stat_data_112.csv')\n",
        "culture_df = df[df['mission_field'] == '自然科學']\n",
        "difficulty_mapping = {'易': 1, '中': 2, '難': 3}\n",
        "culture_df['mission_difficulty'] =culture_df['mission_difficulty'].map(difficulty_mapping)\n",
        "culture_df = culture_df.sort_values(by='mission_status',ascending=True).reset_index(drop=True)\n",
        "hard_culture_df = culture_df[culture_df['mission_difficulty'] == 3]\n",
        "misson_status_culture_df =hard_culture_df[hard_culture_df['mission_status'] == '完成任務']\n",
        "from google.colab import auth\n",
        "auth.authenticate_user()\n",
        "import gspread\n",
        "from google.auth import default\n",
        "creds,_=default()\n",
        "gc = gspread.authorize(creds)\n",
        "\n",
        "gsheets=gc.open_by_url(\"https://docs.google.com/spreadsheets/d/1ffx1S7H_F796-nG6qCUAtKoj8NMU4nVrumfVrbROxFs/edit?gid=0#gid=0\")\n",
        "\n",
        "from gspread_dataframe import set_with_dataframe\n",
        "#select new sheets\n",
        "worksheet = gsheets.get_worksheet(0)\n",
        "#taking your DataFrame into Googlesheets\n",
        "set_with_dataframe(worksheet,misson_status_culture_df)"
      ],
      "metadata": {
        "id": "82htvO1LNIus"
      },
      "execution_count": null,
      "outputs": []
    },
    {
      "cell_type": "code",
      "source": [
        "import pandas as pd\n",
        "import numpy as np\n",
        "\n",
        "df = pd.read_csv('A_stat_data_112.csv')\n",
        "culture_df = df[df['mission_field'] == '自然科學']\n",
        "difficulty_mapping = {'易': 1, '中': 2, '難': 3}\n",
        "culture_df['mission_difficulty'] =culture_df['mission_difficulty'].map(difficulty_mapping)\n",
        "culture_df = culture_df.sort_values(by='mission_status',ascending=True).reset_index(drop=True)\n",
        "hard_culture_df = culture_df[culture_df['mission_difficulty'] == 1]\n",
        "misson_status_culture_df =hard_culture_df[hard_culture_df['mission_status'] == '取消派發']\n",
        "from google.colab import auth\n",
        "auth.authenticate_user()\n",
        "import gspread\n",
        "from google.auth import default\n",
        "creds,_=default()\n",
        "gc = gspread.authorize(creds)\n",
        "\n",
        "gsheets=gc.open_by_url(\"https://docs.google.com/spreadsheets/d/1Bag4WScTteMM6eBW2ksamJpiAmguHNS7W_d5FQVvwrs/edit?gid=0#gid=0\")\n",
        "\n",
        "from gspread_dataframe import set_with_dataframe\n",
        "#select new sheets\n",
        "worksheet = gsheets.get_worksheet(0)\n",
        "#taking your DataFrame into Googlesheets\n",
        "set_with_dataframe(worksheet,misson_status_culture_df)"
      ],
      "metadata": {
        "colab": {
          "base_uri": "https://localhost:8080/"
        },
        "id": "-dzbsOM6B8xW",
        "outputId": "7cb2fe5e-5406-4615-97f5-ac7dfa225aea"
      },
      "execution_count": null,
      "outputs": [
        {
          "output_type": "stream",
          "name": "stderr",
          "text": [
            "<ipython-input-39-fa1f4aaff622>:7: SettingWithCopyWarning: \n",
            "A value is trying to be set on a copy of a slice from a DataFrame.\n",
            "Try using .loc[row_indexer,col_indexer] = value instead\n",
            "\n",
            "See the caveats in the documentation: https://pandas.pydata.org/pandas-docs/stable/user_guide/indexing.html#returning-a-view-versus-a-copy\n",
            "  culture_df['mission_difficulty'] =culture_df['mission_difficulty'].map(difficulty_mapping)\n"
          ]
        }
      ]
    },
    {
      "cell_type": "code",
      "source": [
        "import pandas as pd\n",
        "import numpy as np\n",
        "\n",
        "df = pd.read_csv('A_stat_data_112.csv')\n",
        "culture_df = df[df['mission_field'] == '自然科學']\n",
        "difficulty_mapping = {'易': 1, '中': 2, '難': 3}\n",
        "culture_df['mission_difficulty'] =culture_df['mission_difficulty'].map(difficulty_mapping)\n",
        "culture_df = culture_df.sort_values(by='mission_status',ascending=True).reset_index(drop=True)\n",
        "hard_culture_df = culture_df[culture_df['mission_difficulty'] == 2]\n",
        "misson_status_culture_df =hard_culture_df[hard_culture_df['mission_status'] == '取消派發']\n",
        "from google.colab import auth\n",
        "auth.authenticate_user()\n",
        "import gspread\n",
        "from google.auth import default\n",
        "creds,_=default()\n",
        "gc = gspread.authorize(creds)\n",
        "\n",
        "gsheets=gc.open_by_url(\"https://docs.google.com/spreadsheets/d/1Bag4WScTteMM6eBW2ksamJpiAmguHNS7W_d5FQVvwrs/edit?gid=0#gid=0\")\n",
        "\n",
        "from gspread_dataframe import set_with_dataframe\n",
        "#select new sheets\n",
        "worksheet = gsheets.get_worksheet(0)\n",
        "#taking your DataFrame into Googlesheets\n",
        "set_with_dataframe(worksheet,misson_status_culture_df)"
      ],
      "metadata": {
        "id": "vCiiiRnjNOvF"
      },
      "execution_count": null,
      "outputs": []
    },
    {
      "cell_type": "code",
      "source": [
        "import pandas as pd\n",
        "import numpy as np\n",
        "\n",
        "df = pd.read_csv('A_stat_data_112.csv')\n",
        "culture_df = df[df['mission_field'] == '自然科學']\n",
        "difficulty_mapping = {'易': 1, '中': 2, '難': 3}\n",
        "culture_df['mission_difficulty'] =culture_df['mission_difficulty'].map(difficulty_mapping)\n",
        "culture_df = culture_df.sort_values(by='mission_status',ascending=True).reset_index(drop=True)\n",
        "hard_culture_df = culture_df[culture_df['mission_difficulty'] == 3]\n",
        "misson_status_culture_df =hard_culture_df[hard_culture_df['mission_status'] == '取消派發']\n",
        "from google.colab import auth\n",
        "auth.authenticate_user()\n",
        "import gspread\n",
        "from google.auth import default\n",
        "creds,_=default()\n",
        "gc = gspread.authorize(creds)\n",
        "\n",
        "gsheets=gc.open_by_url(\"https://docs.google.com/spreadsheets/d/1Bag4WScTteMM6eBW2ksamJpiAmguHNS7W_d5FQVvwrs/edit?gid=0#gid=0\")\n",
        "\n",
        "from gspread_dataframe import set_with_dataframe\n",
        "#select new sheets\n",
        "worksheet = gsheets.get_worksheet(0)\n",
        "#taking your DataFrame into Googlesheets\n",
        "set_with_dataframe(worksheet,misson_status_culture_df)"
      ],
      "metadata": {
        "id": "d6KWW14WNP7F"
      },
      "execution_count": null,
      "outputs": []
    }
  ]
}